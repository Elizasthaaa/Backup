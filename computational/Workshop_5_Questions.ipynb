{
  "cells": [
    {
      "cell_type": "markdown",
      "metadata": {
        "id": "ZKbfkY0CtGI_"
      },
      "source": [
        "## Plotting Graph with Python and MatPlotLib Library\n",
        "\n",
        "Matplotlib is a plotting library for the Python programming language and its numerical mathematics extension NumPy."
      ]
    },
    {
      "cell_type": "markdown",
      "metadata": {
        "id": "lzN5KfCDtjdG"
      },
      "source": [
        "Installing Matplot Library:\n",
        "**$ pip install matplotlib**\n",
        "\n",
        "*pip is the Python Package Manager for installing library hosted in pypi.org"
      ]
    },
    {
      "cell_type": "markdown",
      "metadata": {
        "id": "Dq5UKtLyuAx7"
      },
      "source": [
        "**Python Graphs Extra Tasks for Week-5 in Computational Mathematics (4MM013).**\n",
        "\n",
        "1.  Line Plot,\n",
        "2.  X-Y Plot,\n",
        "3. Scatter Plot,\n",
        "4. Bar plot,\n",
        "5. Histogram,\n",
        "6. Pie-Chart,\n",
        "7. Sub-plot,\n",
        "8. Titles and Axis-Labels,\n",
        "9. Legends, and\n",
        "10. Save Plot as Image Files.\n",
        "\n",
        "\n",
        "\n"
      ]
    },
    {
      "cell_type": "markdown",
      "metadata": {
        "id": "4YsKElLxu-hr"
      },
      "source": [
        "**Remember : To use the functions or variables of library, we import that library.**"
      ]
    },
    {
      "cell_type": "markdown",
      "metadata": {
        "id": "6M5tHDFWvWC1"
      },
      "source": [
        "1. Create a simple line plot with Pyplot by plotting the ‘data’ list of values against the corresponding indexes ( 0 to 7).\n",
        "\n",
        "\n",
        "Take : data = [3, 6, 9, 12, 15, 18, 21, 24]\n"
      ]
    },
    {
      "cell_type": "code",
      "execution_count": null,
      "metadata": {
        "id": "jodxYLmvtta1"
      },
      "outputs": [],
      "source": []
    },
    {
      "cell_type": "markdown",
      "metadata": {
        "id": "anuxhOsAv5MO"
      },
      "source": [
        "2. Plot two lists of data points against each other to form an X-Y plot.\n",
        "\n",
        "x = [1, 2, 4, 8, 10]\n",
        "y = [2, 4, 8, 10, 20]"
      ]
    },
    {
      "cell_type": "code",
      "execution_count": null,
      "metadata": {
        "id": "YJ65fdC8v_QK"
      },
      "outputs": [],
      "source": []
    },
    {
      "cell_type": "markdown",
      "metadata": {
        "id": "oyE3N7iowANz"
      },
      "source": [
        "3. Create a scatter plot of data points, where each point is represented by a\n",
        "coordinate (x, y).\n",
        "\n",
        "\n",
        "x = [1, 2, 3, 4, 5]\n",
        "y = [2, 6, 9, 10, 15]\n"
      ]
    },
    {
      "cell_type": "code",
      "execution_count": null,
      "metadata": {
        "id": "7qWQM0uZwIpL"
      },
      "outputs": [],
      "source": []
    },
    {
      "cell_type": "markdown",
      "metadata": {
        "id": "c8zY0u2ewOUB"
      },
      "source": [
        "4. Create a bar plot to compare the frequency of items in a list.\n",
        "\n",
        "\n",
        "items = ['A', 'B', 'C', 'D', 'E']\n",
        "freq = [3, 6, 10, 7, 15]\n",
        "\n",
        "Add 3 items with 3 additional frequencies to the graph.\n"
      ]
    },
    {
      "cell_type": "code",
      "execution_count": null,
      "metadata": {
        "id": "FDS8WKHnwaDl"
      },
      "outputs": [],
      "source": []
    },
    {
      "cell_type": "markdown",
      "metadata": {
        "id": "3CS8j1KswcmB"
      },
      "source": [
        "5. Plot a histogram to visualize the distribution of a list of numerical values.\n",
        "\n",
        "\n",
        "values = [1, 4, 4, 7, 10, 11, 11, 13, 14, 19] and bins=5"
      ]
    },
    {
      "cell_type": "code",
      "execution_count": null,
      "metadata": {
        "id": "d5wsXxTgwt1X"
      },
      "outputs": [],
      "source": []
    },
    {
      "cell_type": "markdown",
      "metadata": {
        "id": "Qk3r0SOXw6oi"
      },
      "source": [
        "6. Create a pie chart to represent percentages of various categories within a\n",
        "dataset.\n",
        "\n",
        "labels = ['A', 'B', 'C', 'D']\n",
        "sizes = [10, 20, 30, 40]\n",
        "\n"
      ]
    },
    {
      "cell_type": "code",
      "execution_count": null,
      "metadata": {
        "id": "9LHlrHeAxP_8"
      },
      "outputs": [],
      "source": []
    },
    {
      "cell_type": "markdown",
      "metadata": {
        "id": "wQUyMjLyxOX0"
      },
      "source": [
        "7. Use subplots to display multiple plots in a single figure. For this task, create two line plots and display them side by side.\n",
        "\n",
        "\n",
        "x1 = [1, 2, 3, 4, 5],\n",
        "y1 = [2, 4, 6, 8, 10],\n",
        "x2 = [1, 2, 3, 4, 5] and\n",
        "y2 = [1, 4, 9, 16, 25]\n"
      ]
    },
    {
      "cell_type": "code",
      "execution_count": null,
      "metadata": {
        "id": "tgRYEMXExo82"
      },
      "outputs": [],
      "source": []
    },
    {
      "cell_type": "markdown",
      "metadata": {
        "id": "96nbtqIxxOE2"
      },
      "source": [
        "8. Titles and Axis Labels: Supplement a standard X-Y plot with titles and axis labels.\n",
        "\n",
        "x = [1, 2, 3, 4, 5]\n",
        "y = [2, 4, 6, 8, 10]\n"
      ]
    },
    {
      "cell_type": "code",
      "execution_count": null,
      "metadata": {
        "id": "g98qq0a96AB_"
      },
      "outputs": [],
      "source": []
    },
    {
      "cell_type": "markdown",
      "metadata": {
        "id": "n5isBL7axN7L"
      },
      "source": [
        "9. Create a plot with multiple lines or datasets and add a legend to differentiate them.\n",
        "\n",
        "\n",
        "x = [1, 2, 3, 4, 5],\n",
        "y1 = [2, 4, 6, 8, 10], \n",
        "y2 = [1, 4, 9, 16, 25]"
      ]
    },
    {
      "cell_type": "code",
      "execution_count": null,
      "metadata": {
        "id": "dExD4LTIx65y"
      },
      "outputs": [],
      "source": []
    },
    {
      "cell_type": "markdown",
      "metadata": {
        "id": "yph36eABxNp4"
      },
      "source": [
        "10. Save Plot as Image File: After creating an X-Y plot, save the resulting graph as an image file."
      ]
    },
    {
      "cell_type": "code",
      "execution_count": null,
      "metadata": {
        "id": "sjwecl6MwHwc"
      },
      "outputs": [],
      "source": []
    },
    {
      "cell_type": "markdown",
      "metadata": {
        "id": "au9BqP0E6QOs"
      },
      "source": [
        "##**Home Assignment:**"
      ]
    },
    {
      "cell_type": "markdown",
      "metadata": {
        "id": "6BItwPOX6dpO"
      },
      "source": [
        "1. Create a simple plot of sin(x). Using Numpy linspace to generate values of x and numpy sin(x) to generate y."
      ]
    },
    {
      "cell_type": "code",
      "execution_count": null,
      "metadata": {
        "id": "WT8vA16g6dU5"
      },
      "outputs": [],
      "source": []
    },
    {
      "cell_type": "markdown",
      "metadata": {
        "id": "0RQYrb7x6kHA"
      },
      "source": [
        "2. Create a pie-chart from data below: \n",
        "\n",
        "Labels: Comedy,\tAction,\tRomance,\tDrama,\tSciFi\n",
        "\n",
        "\n",
        "Data : 4,\t5,\t6,\t1,\t4"
      ]
    },
    {
      "cell_type": "code",
      "execution_count": null,
      "metadata": {
        "id": "IKVV92hR6ZH6"
      },
      "outputs": [],
      "source": []
    },
    {
      "cell_type": "markdown",
      "metadata": {
        "id": "AvIPDfzzDNFM"
      },
      "source": [
        "3. Create a scatter plot from "
      ]
    }
  ],
  "metadata": {
    "colab": {
      "provenance": []
    },
    "kernelspec": {
      "display_name": "Python 3",
      "name": "python3"
    },
    "language_info": {
      "name": "python"
    }
  },
  "nbformat": 4,
  "nbformat_minor": 0
}
